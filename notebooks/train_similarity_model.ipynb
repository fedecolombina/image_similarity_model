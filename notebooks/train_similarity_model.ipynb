{
 "cells": [
  {
   "cell_type": "code",
   "execution_count": null,
   "metadata": {
    "id": "4UJ1W1M2V4fN"
   },
   "outputs": [],
   "source": [
    "!git clone https://github.com/fedecolombina/image_similarity_model.git"
   ]
  },
  {
   "cell_type": "code",
   "execution_count": null,
   "metadata": {
    "id": "LYtaEydyWDSe"
   },
   "outputs": [],
   "source": [
    "%cd ./image_similarity_model/\n",
    "!mkdir models/"
   ]
  },
  {
   "cell_type": "code",
   "execution_count": null,
   "metadata": {
    "id": "CWdNw8EDWFiN"
   },
   "outputs": [],
   "source": [
    "!pip install torch torchvision scikit-learn"
   ]
  },
  {
   "cell_type": "code",
   "execution_count": null,
   "metadata": {
    "id": "qYNQh2eUWv_Q"
   },
   "outputs": [],
   "source": [
    "!wget https://prod-dcd-datasets-cache-zipfiles.s3.eu-west-1.amazonaws.com/wzr2yv7r53-1.zip"
   ]
  },
  {
   "cell_type": "code",
   "execution_count": null,
   "metadata": {
    "id": "vompH2aibCzl"
   },
   "outputs": [],
   "source": [
    "!unzip wzr2yv7r53-1.zip\n",
    "!unzip 2D\\ geometric\\ shapes\\ dataset/dataset.zip\n",
    "!mv output dataset/"
   ]
  },
  {
   "cell_type": "code",
   "execution_count": null,
   "metadata": {
    "id": "FrEdg-7yeSkW"
   },
   "outputs": [],
   "source": [
    "import torch\n",
    "print(torch.cuda.is_available())"
   ]
  },
  {
   "cell_type": "code",
   "execution_count": null,
   "metadata": {
    "id": "BCaP52uCgLmB"
   },
   "outputs": [],
   "source": [
    "!python3 train_and_eval.py"
   ]
  },
  {
   "cell_type": "code",
   "execution_count": null,
   "metadata": {
    "id": "p-PPN0_I66YI"
   },
   "outputs": [],
   "source": [
    "!python3 similarity.py dataset/test/hexagon.png dataset/test/circle.png\n"
   ]
  }
 ],
 "metadata": {
  "accelerator": "GPU",
  "colab": {
   "gpuType": "T4",
   "provenance": []
  },
  "kernelspec": {
   "display_name": "Python 3",
   "language": "python",
   "name": "python3"
  },
  "language_info": {
   "codemirror_mode": {
    "name": "ipython",
    "version": 3
   },
   "file_extension": ".py",
   "mimetype": "text/x-python",
   "name": "python",
   "nbconvert_exporter": "python",
   "pygments_lexer": "ipython3",
   "version": "3.6.15"
  }
 },
 "nbformat": 4,
 "nbformat_minor": 1
}
