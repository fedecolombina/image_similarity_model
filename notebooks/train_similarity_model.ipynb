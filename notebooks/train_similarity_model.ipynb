{
  "nbformat": 4,
  "nbformat_minor": 0,
  "metadata": {
    "colab": {
      "provenance": [],
      "gpuType": "T4"
    },
    "kernelspec": {
      "name": "python3",
      "display_name": "Python 3"
    },
    "language_info": {
      "name": "python"
    },
    "accelerator": "GPU"
  },
  "cells": [
    {
      "cell_type": "code",
      "execution_count": null,
      "metadata": {
        "id": "4UJ1W1M2V4fN"
      },
      "outputs": [],
      "source": [
        "!git clone https://github.com/fedecolombina/image_similarity_model.git"
      ]
    },
    {
      "cell_type": "code",
      "source": [
        "%cd ./image_similarity_model/\n"
      ],
      "metadata": {
        "id": "LYtaEydyWDSe"
      },
      "execution_count": null,
      "outputs": []
    },
    {
      "cell_type": "code",
      "source": [
        "!pip install torch torchvision scikit-learn"
      ],
      "metadata": {
        "id": "CWdNw8EDWFiN"
      },
      "execution_count": null,
      "outputs": []
    },
    {
      "cell_type": "code",
      "source": [
        "!wget https://prod-dcd-datasets-cache-zipfiles.s3.eu-west-1.amazonaws.com/wzr2yv7r53-1.zip"
      ],
      "metadata": {
        "id": "qYNQh2eUWv_Q"
      },
      "execution_count": null,
      "outputs": []
    },
    {
      "cell_type": "code",
      "source": [
        "!unzip wzr2yv7r53-1.zip\n",
        "!unzip 2D\\ geometric\\ shapes\\ dataset/dataset.zip\n",
        "!mv output dataset/"
      ],
      "metadata": {
        "id": "vompH2aibCzl"
      },
      "execution_count": null,
      "outputs": []
    },
    {
      "cell_type": "code",
      "source": [
        "import torch\n",
        "print(torch.cuda.is_available())"
      ],
      "metadata": {
        "id": "FrEdg-7yeSkW"
      },
      "execution_count": null,
      "outputs": []
    },
    {
      "cell_type": "code",
      "source": [
        "!python3 train_and_eval.py"
      ],
      "metadata": {
        "id": "BCaP52uCgLmB"
      },
      "execution_count": null,
      "outputs": []
    },
    {
      "cell_type": "code",
      "source": [
        "!python3 similarity.py dataset/test/ottagono.png dataset/test/cerchio.png\n"
      ],
      "metadata": {
        "id": "p-PPN0_I66YI"
      },
      "execution_count": null,
      "outputs": []
    }
  ]
}